{
  "nbformat": 4,
  "nbformat_minor": 0,
  "metadata": {
    "colab": {
      "name": "Jupyter.ipynb",
      "provenance": [],
      "authorship_tag": "ABX9TyPDKeufwqPO7Ont1pV1L0On",
      "include_colab_link": true
    },
    "kernelspec": {
      "name": "python3",
      "display_name": "Python 3"
    }
  },
  "cells": [
    {
      "cell_type": "markdown",
      "metadata": {
        "id": "view-in-github",
        "colab_type": "text"
      },
      "source": [
        "<a href=\"https://colab.research.google.com/github/amitkp57/Jupyter/blob/pramit-dev/Jupyter.ipynb\" target=\"_parent\"><img src=\"https://colab.research.google.com/assets/colab-badge.svg\" alt=\"Open In Colab\"/></a>"
      ]
    },
    {
      "cell_type": "markdown",
      "metadata": {
        "id": "_kHS_aVnCAFW"
      },
      "source": [
        "### Move to GPU mode if you are in Google Colab\r\n",
        "Go to `Runtime` -> `Change runtime type` to activate GPU."
      ]
    },
    {
      "cell_type": "markdown",
      "metadata": {
        "id": "WK-zi4nZwNfa"
      },
      "source": [
        "### Provide your credentials to the runtime\r\n"
      ]
    },
    {
      "cell_type": "code",
      "metadata": {
        "colab": {
          "base_uri": "https://localhost:8080/"
        },
        "id": "2Gym1DvVvfzL",
        "outputId": "6f5492c0-4429-41bf-8023-19ceba4896f5"
      },
      "source": [
        "from google.colab import auth\r\n",
        "auth.authenticate_user()\r\n",
        "print('Authenticated')"
      ],
      "execution_count": 1,
      "outputs": [
        {
          "output_type": "stream",
          "text": [
            "Authenticated\n"
          ],
          "name": "stdout"
        }
      ]
    },
    {
      "cell_type": "markdown",
      "metadata": {
        "id": "zKGjgo_MCHLt"
      },
      "source": [
        "### Mount Google Drive"
      ]
    },
    {
      "cell_type": "code",
      "metadata": {
        "id": "_0lGGQxtCBGm",
        "colab": {
          "base_uri": "https://localhost:8080/"
        },
        "outputId": "bac6eefb-abcf-42cc-d74d-4b3b6108416a"
      },
      "source": [
        "import os\r\n",
        "from google.colab import drive\r\n",
        "drive.mount('/content/gdrive')\r\n",
        "WORKING_DIRECTORY = '/content/gdrive/MyDrive/Data/Jupyter'\r\n",
        "os.environ['WORKING_DIRECTORY'] = WORKING_DIRECTORY\r\n",
        "%cd $WORKING_DIRECTORY\r\n",
        "!ls -latr"
      ],
      "execution_count": 2,
      "outputs": [
        {
          "output_type": "stream",
          "text": [
            "Drive already mounted at /content/gdrive; to attempt to forcibly remount, call drive.mount(\"/content/gdrive\", force_remount=True).\n",
            "/content/gdrive/MyDrive/Data/Jupyter\n",
            "total 25\n",
            "-rw------- 1 root root  530 Mar 10 12:53 requirements.txt\n",
            "-rw------- 1 root root    9 Mar 10 12:53 README.md\n",
            "-rw------- 1 root root   85 Mar 10 12:53 main.py\n",
            "-rw------- 1 root root 1069 Mar 10 12:53 LICENSE\n",
            "-rw------- 1 root root 3565 Mar 10 12:53 Jupyter.ipynb\n",
            "-rw------- 1 root root 1824 Mar 10 12:53 .gitignore\n",
            "drwx------ 2 root root 4096 Mar 10 12:53 data\n",
            "drwx------ 3 root root 4096 Mar 10 12:53 scripts\n",
            "drwx------ 8 root root 4096 Mar 10 12:53 .git\n",
            "-rw------- 1 root root    0 Mar 10 12:53 app.log\n",
            "drwx------ 3 root root 4096 Mar 10 13:07 results\n"
          ],
          "name": "stdout"
        }
      ]
    },
    {
      "cell_type": "markdown",
      "metadata": {
        "id": "MYSVHrEFxwbR"
      },
      "source": [
        "### Clone git repo"
      ]
    },
    {
      "cell_type": "code",
      "metadata": {
        "id": "_A5TX_whyILW",
        "colab": {
          "base_uri": "https://localhost:8080/"
        },
        "outputId": "c90a17e5-3acf-4456-c471-a54f56ddacb8"
      },
      "source": [
        "%cd $WORKING_DIRECTORY\r\n",
        "# !git clone https://github.com/amitkp57/Jupyter\r\n",
        "!git reset --hard\r\n",
        "!git pull origin pramit-dev\r\n",
        "# !pip install -r requirements.txt\r\n",
        "!pip install datasketch"
      ],
      "execution_count": 3,
      "outputs": [
        {
          "output_type": "stream",
          "text": [
            "/content/gdrive/MyDrive/Data/Jupyter\n",
            "HEAD is now at d20cbaa calculate_jaccard_similarity\n",
            "remote: Enumerating objects: 24, done.\u001b[K\n",
            "remote: Counting objects: 100% (24/24), done.\u001b[K\n",
            "remote: Compressing objects: 100% (10/10), done.\u001b[K\n",
            "remote: Total 16 (delta 12), reused 8 (delta 6), pack-reused 0\u001b[K\n",
            "Unpacking objects: 100% (16/16), done.\n",
            "From https://github.com/amitkp57/Jupyter\n",
            " * branch            pramit-dev -> FETCH_HEAD\n",
            "   d20cbaa..c20252e  pramit-dev -> origin/pramit-dev\n",
            "Updating d20cbaa..c20252e\n",
            "Fast-forward\n",
            " scripts/ClusterColumns.py | 104 \u001b[32m+++++++++++++++++++++++++\u001b[m\u001b[31m---------------------\u001b[m\n",
            " scripts/QueryDatabase.py  |  20 \u001b[32m+++++++++\u001b[m\n",
            " 2 files changed, 77 insertions(+), 47 deletions(-)\n",
            "Requirement already satisfied: datasketch in /usr/local/lib/python3.7/dist-packages (1.5.3)\n",
            "Requirement already satisfied: numpy>=1.11 in /usr/local/lib/python3.7/dist-packages (from datasketch) (1.19.5)\n"
          ],
          "name": "stdout"
        }
      ]
    },
    {
      "cell_type": "markdown",
      "metadata": {
        "id": "lXzuTYHW1IJ7"
      },
      "source": [
        "### Setup meta data\r\n",
        "\r\n",
        "Creates datasets.txt, tables.txt and columns.json in the /data folder. These files are used for querying Google Bigquery tables. "
      ]
    },
    {
      "cell_type": "code",
      "metadata": {
        "id": "1_2rSY2c18EW",
        "colab": {
          "base_uri": "https://localhost:8080/"
        },
        "outputId": "32cc0cdf-7c22-4096-ea00-1282513aab1c"
      },
      "source": [
        "from scripts.MetaData import save_locally\r\n",
        "DATA_PATH = f'{WORKING_DIRECTORY}/data'\r\n",
        "os.environ[\r\n",
        "        'GOOGLE_APPLICATION_CREDENTIALS'] = f'{DATA_PATH}/amit-pradhan-compute-23315413b3a3.json'\r\n",
        "# save_locally(DATA_PATH)\r\n",
        "print('Completed!')"
      ],
      "execution_count": 4,
      "outputs": [
        {
          "output_type": "stream",
          "text": [
            "Completed!\n"
          ],
          "name": "stdout"
        }
      ]
    },
    {
      "cell_type": "markdown",
      "metadata": {
        "id": "KTJcziIwzymf"
      },
      "source": [
        "### Jaccard similarity\r\n",
        "\r\n",
        "Jaccard similarity between columns based on minHash"
      ]
    },
    {
      "cell_type": "code",
      "metadata": {
        "id": "odDDAXdCz9qb"
      },
      "source": [
        "import scripts.QueryDatabase as queryDatabase\r\n",
        "import scripts.ClusterColumns as clusterColumns\r\n",
        "import numpy as np\r\n",
        "\r\n",
        "RESULTS_PATH = f'{WORKING_DIRECTORY}/results'\r\n",
        "string_columns = queryDatabase.get_columns('STRING')\r\n",
        "# np.savez(f'{RESULTS_PATH}/string_columns.npz', string_columns=string_columns)\r\n",
        "clusterColumns.serialize_min_hash(string_columns)\r\n",
        "similarity = clusterColumns.calculate_jaccard_similarity(string_columns)\r\n",
        "print(np.unique(np.round(similarity.ravel(), 2)))\r\n",
        "print('Completed!')"
      ],
      "execution_count": null,
      "outputs": []
    },
    {
      "cell_type": "markdown",
      "metadata": {
        "id": "Sqmf8vBS5w1C"
      },
      "source": [
        "### Find columns with Jaccard similarity greater than a threshold value\r\n",
        "\r\n",
        "We use MinHash based LSH t find columns with Jaccard similarity greater than a given threshold value."
      ]
    },
    {
      "cell_type": "code",
      "metadata": {
        "colab": {
          "base_uri": "https://localhost:8080/"
        },
        "id": "j1W6x6_O6Zud",
        "outputId": "dd40bcdd-35eb-4849-8821-ed862a2e763d"
      },
      "source": [
        "import scripts.QueryDatabase as queryDatabase\r\n",
        "import scripts.ClusterColumns as clusterColumns\r\n",
        "\r\n",
        "RESULTS_PATH = f'{WORKING_DIRECTORY}/results'\r\n",
        "string_columns = queryDatabase.get_columns('STRING')\r\n",
        "# np.savez(f'{RESULTS_PATH}/string_columns.npz', string_columns=string_columns)\r\n",
        "lsh = clusterColumns.build_minhash_lsh(string_columns, threshold=0.7)\r\n",
        "print(clusterColumns.get_all_similar_columns(lsh, string_columns[0]))\r\n",
        "print('Completed!')"
      ],
      "execution_count": 12,
      "outputs": [
        {
          "output_type": "stream",
          "text": [
            "['bigquery-public-data.covid19_public_forecasts.county_14d.county_fips_code', 'bigquery-public-data.covid19_symptom_search.symptom_search_sub_region_2_daily.sub_region_2_code', 'bigquery-public-data.covid19_public_forecasts_asia_ne1.county_28d_historical_.county_fips_code', 'bigquery-public-data.covid19_symptom_search.symptom_search_sub_region_2_weekly.sub_region_2_code', 'bigquery-public-data.covid19_public_forecasts.county_14d_historical_.county_fips_code', 'bigquery-public-data.covid19_public_forecasts.county_28d_historical_.county_fips_code', 'bigquery-public-data.covid19_public_forecasts_asia_ne1.county_28d.county_fips_code', 'bigquery-public-data.covid19_aha.hospital_beds.county_fips_code', 'bigquery-public-data.covid19_public_forecasts.county_28d_historical.county_fips_code', 'bigquery-public-data.covid19_public_forecasts.county_28d.county_fips_code', 'bigquery-public-data.covid19_jhu_csse.summary.fips', 'bigquery-public-data.covid19_aha.staffing.county_fips_code', 'bigquery-public-data.covid19_google_mobility.mobility_report.census_fips_code', 'bigquery-public-data.covid19_usafacts.confirmed_cases.county_fips_code', 'bigquery-public-data.covid19_public_forecasts.county_14d_historical.county_fips_code', 'bigquery-public-data.covid19_google_mobility_eu.mobility_report.census_fips_code', 'bigquery-public-data.covid19_usafacts.summary.county_fips_code', 'bigquery-public-data.covid19_public_forecasts_asia_ne1.county_14d.county_fips_code', 'bigquery-public-data.covid19_public_forecasts_asia_ne1.county_14d_historical_.county_fips_code', 'bigquery-public-data.covid19_jhu_csse_eu.summary.fips', 'bigquery-public-data.covid19_nyt.us_counties.county_fips_code', 'bigquery-public-data.covid19_public_forecasts_asia_ne1.county_14d_historical.county_fips_code', 'bigquery-public-data.covid19_usafacts.deaths.county_fips_code', 'bigquery-public-data.covid19_nyt.mask_use_by_county.county_fips_code', 'bigquery-public-data.covid19_weathersource_com.county_day_history.county_fips_code', 'bigquery-public-data.covid19_public_forecasts_asia_ne1.county_28d_historical.county_fips_code']\n",
            "Completed!\n"
          ],
          "name": "stdout"
        }
      ]
    },
    {
      "cell_type": "markdown",
      "metadata": {
        "id": "BAChLP2f00zS"
      },
      "source": [
        "### Top-k similar columns based on Jaccard similarity\r\n",
        "\r\n",
        "We use minhash LSH based forest to query top k columns based on Jaccard similarity"
      ]
    },
    {
      "cell_type": "code",
      "metadata": {
        "colab": {
          "base_uri": "https://localhost:8080/"
        },
        "id": "w60j5aUM1gMS",
        "outputId": "8f10bdd2-27f4-404c-cd03-ae719260ed25"
      },
      "source": [
        "import scripts.QueryDatabase as queryDatabase\r\n",
        "import scripts.ClusterColumns as clusterColumns\r\n",
        "\r\n",
        "string_columns = queryDatabase.get_columns('STRING')\r\n",
        "forest = clusterColumns.build_lsh_forest(string_columns)\r\n",
        "print(clusterColumns.get_top_k(forest, string_columns[0], 10))\r\n",
        "print('Completed!')"
      ],
      "execution_count": 10,
      "outputs": [
        {
          "output_type": "stream",
          "text": [
            "['bigquery-public-data.covid19_google_mobility.mobility_report.census_fips_code', 'bigquery-public-data.covid19_nyt.us_counties.county_fips_code', 'bigquery-public-data.covid19_public_forecasts.county_14d.county_fips_code', 'bigquery-public-data.covid19_aha.hospital_beds.county_fips_code', 'bigquery-public-data.covid19_jhu_csse.summary.fips', 'bigquery-public-data.covid19_symptom_search.symptom_search_sub_region_2_daily.sub_region_2_code', 'bigquery-public-data.covid19_nyt.mask_use_by_county.county_fips_code', 'bigquery-public-data.covid19_google_mobility_eu.mobility_report.census_fips_code', 'bigquery-public-data.covid19_aha.staffing.county_fips_code', 'bigquery-public-data.covid19_jhu_csse_eu.summary.fips']\n",
            "Completed!\n"
          ],
          "name": "stdout"
        }
      ]
    },
    {
      "cell_type": "markdown",
      "metadata": {
        "id": "wVllabCDRBK6"
      },
      "source": [
        "### ScratchPad\r\n",
        "Try anything here!"
      ]
    },
    {
      "cell_type": "code",
      "metadata": {
        "id": "AQXOn8N-RcBu",
        "colab": {
          "base_uri": "https://localhost:8080/",
          "height": 231
        },
        "outputId": "5afa1aa8-b2f4-44e6-9e0b-156010a0285a"
      },
      "source": [
        "import scripts.QueryDatabase as queryDatabase\r\n",
        "import scripts.ClusterColumns as clusterColumns\r\n",
        "import numpy as np\r\n",
        "\r\n",
        "RESULTS_PATH = f'{WORKING_DIRECTORY}/results'\r\n",
        "string_columns = queryDatabase.get_columns('STRING')\r\n",
        "# np.savez(f'{RESULTS_PATH}/string_columns.npz', string_columns=string_columns)\r\n",
        "clusterColumns.serialize_min_hash(string_columns)\r\n",
        "similarity = clusterColumns.calculate_jaccard_similarity(string_columns)\r\n",
        "# print(np.unique(np.round(similarity.ravel(), 2)))\r\n",
        "print('Completed!')"
      ],
      "execution_count": 5,
      "outputs": [
        {
          "output_type": "error",
          "ename": "NameError",
          "evalue": "ignored",
          "traceback": [
            "\u001b[0;31m---------------------------------------------------------------------------\u001b[0m",
            "\u001b[0;31mNameError\u001b[0m                                 Traceback (most recent call last)",
            "\u001b[0;32m<ipython-input-5-ddba594e41dc>\u001b[0m in \u001b[0;36m<module>\u001b[0;34m()\u001b[0m\n\u001b[1;32m      9\u001b[0m \u001b[0;31m# similarity = clusterColumns.calculate_jaccard_similarity(string_columns)\u001b[0m\u001b[0;34m\u001b[0m\u001b[0;34m\u001b[0m\u001b[0;34m\u001b[0m\u001b[0m\n\u001b[1;32m     10\u001b[0m \u001b[0;31m# np.savez(f'{RESULTS_PATH}/similarity_all.npz', similarity=similarity)\u001b[0m\u001b[0;34m\u001b[0m\u001b[0;34m\u001b[0m\u001b[0;34m\u001b[0m\u001b[0m\n\u001b[0;32m---> 11\u001b[0;31m \u001b[0msimilarity\u001b[0m \u001b[0;34m=\u001b[0m \u001b[0mnp\u001b[0m\u001b[0;34m.\u001b[0m\u001b[0mload\u001b[0m\u001b[0;34m(\u001b[0m\u001b[0;34mf'{RESULTS_PATH}/similarity_all.npz'\u001b[0m\u001b[0;34m)\u001b[0m\u001b[0;34m[\u001b[0m\u001b[0;34m'similarity'\u001b[0m\u001b[0;34m]\u001b[0m\u001b[0;34m\u001b[0m\u001b[0;34m\u001b[0m\u001b[0m\n\u001b[0m\u001b[1;32m     12\u001b[0m \u001b[0;31m# print(np.unique(np.round(similarity.ravel(), 2)))\u001b[0m\u001b[0;34m\u001b[0m\u001b[0;34m\u001b[0m\u001b[0;34m\u001b[0m\u001b[0m\n\u001b[1;32m     13\u001b[0m \u001b[0mprint\u001b[0m\u001b[0;34m(\u001b[0m\u001b[0;34m'Completed!'\u001b[0m\u001b[0;34m)\u001b[0m\u001b[0;34m\u001b[0m\u001b[0;34m\u001b[0m\u001b[0m\n",
            "\u001b[0;31mNameError\u001b[0m: name 'RESULTS_PATH' is not defined"
          ]
        }
      ]
    }
  ]
}