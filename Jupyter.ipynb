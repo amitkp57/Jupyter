{
  "nbformat": 4,
  "nbformat_minor": 0,
  "metadata": {
    "colab": {
      "name": "Jupyter.ipynb",
      "provenance": [],
      "authorship_tag": "ABX9TyOwDXBPN+Is95HC2oB/JXNA",
      "include_colab_link": true
    },
    "kernelspec": {
      "name": "python3",
      "display_name": "Python 3"
    }
  },
  "cells": [
    {
      "cell_type": "markdown",
      "metadata": {
        "id": "view-in-github",
        "colab_type": "text"
      },
      "source": [
        "<a href=\"https://colab.research.google.com/github/amitkp57/Jupyter/blob/main/Jupyter.ipynb\" target=\"_parent\"><img src=\"https://colab.research.google.com/assets/colab-badge.svg\" alt=\"Open In Colab\"/></a>"
      ]
    },
    {
      "cell_type": "markdown",
      "metadata": {
        "id": "_kHS_aVnCAFW"
      },
      "source": [
        "### Move to GPU mode if you are in Google Colab\r\n",
        "Go to `Runtime` -> `Change runtime type` to activate GPU."
      ]
    },
    {
      "cell_type": "markdown",
      "metadata": {
        "id": "WK-zi4nZwNfa"
      },
      "source": [
        "### Provide your credentials to the runtime\r\n"
      ]
    },
    {
      "cell_type": "code",
      "metadata": {
        "colab": {
          "base_uri": "https://localhost:8080/"
        },
        "id": "2Gym1DvVvfzL",
        "outputId": "288c24a5-df29-4708-d617-d0d549cf7bec"
      },
      "source": [
        "from google.colab import auth\r\n",
        "auth.authenticate_user()\r\n",
        "print('Authenticated')"
      ],
      "execution_count": 10,
      "outputs": [
        {
          "output_type": "stream",
          "text": [
            "Authenticated\n"
          ],
          "name": "stdout"
        }
      ]
    },
    {
      "cell_type": "markdown",
      "metadata": {
        "id": "zKGjgo_MCHLt"
      },
      "source": [
        "### Mount Google Drive"
      ]
    },
    {
      "cell_type": "code",
      "metadata": {
        "id": "_0lGGQxtCBGm",
        "colab": {
          "base_uri": "https://localhost:8080/"
        },
        "outputId": "372abf24-af79-4ed2-a721-32dc0be47318"
      },
      "source": [
        "import os\r\n",
        "from google.colab import drive\r\n",
        "drive.mount('/content/gdrive')\r\n",
        "WORKING_DIRECTORY = '/content/gdrive/MyDrive/Data/Jupyter'\r\n",
        "os.environ['WORKING_DIRECTORY'] = WORKING_DIRECTORY\r\n",
        "%cd $WORKING_DIRECTORY\r\n",
        "!ls -latr"
      ],
      "execution_count": 2,
      "outputs": [
        {
          "output_type": "stream",
          "text": [
            "Drive already mounted at /content/gdrive; to attempt to forcibly remount, call drive.mount(\"/content/gdrive\", force_remount=True).\n",
            "/content/gdrive/MyDrive/Data/Jupyter\n",
            "total 25\n",
            "-rw------- 1 root root  530 Mar 10 12:53 requirements.txt\n",
            "-rw------- 1 root root   85 Mar 10 12:53 main.py\n",
            "-rw------- 1 root root 1069 Mar 10 12:53 LICENSE\n",
            "-rw------- 1 root root 3565 Mar 10 12:53 Jupyter.ipynb\n",
            "-rw------- 1 root root 1824 Mar 10 12:53 .gitignore\n",
            "drwx------ 2 root root 4096 Mar 10 12:53 data\n",
            "-rw------- 1 root root    9 Mar 10 15:41 README.md\n",
            "drwx------ 3 root root 4096 Mar 10 15:41 scripts\n",
            "drwx------ 8 root root 4096 Mar 10 15:41 .git\n",
            "-rw------- 1 root root    0 Mar 10 15:41 app.log\n",
            "drwx------ 3 root root 4096 Mar 10 16:17 results\n"
          ],
          "name": "stdout"
        }
      ]
    },
    {
      "cell_type": "markdown",
      "metadata": {
        "id": "MYSVHrEFxwbR"
      },
      "source": [
        "### Clone git repo"
      ]
    },
    {
      "cell_type": "code",
      "metadata": {
        "id": "_A5TX_whyILW"
      },
      "source": [
        "%cd $WORKING_DIRECTORY\r\n",
        "!git config --global user.email \"amitpradhanorissa@gmail.com\"\r\n",
        "!git config --global user.name \"Amit Pradhan\"\r\n",
        "# !git clone https://github.com/amitkp57/Jupyter\r\n",
        "!git reset --hard\r\n",
        "!git pull origin main\r\n",
        "# !pip install -r requirements.txt\r\n",
        "!pip install datasketch"
      ],
      "execution_count": null,
      "outputs": []
    },
    {
      "cell_type": "markdown",
      "metadata": {
        "id": "lXzuTYHW1IJ7"
      },
      "source": [
        "### Setup meta data\r\n",
        "\r\n",
        "Creates datasets.txt, tables.txt and columns.json in the /data folder. These files are used for querying Google Bigquery tables. "
      ]
    },
    {
      "cell_type": "code",
      "metadata": {
        "id": "1_2rSY2c18EW",
        "colab": {
          "base_uri": "https://localhost:8080/"
        },
        "outputId": "2e1f3da3-7c4b-41e3-a754-c6791eec2dcb"
      },
      "source": [
        "from scripts.MetaData import save_locally\r\n",
        "DATA_PATH = f'{WORKING_DIRECTORY}/data'\r\n",
        "os.environ[\r\n",
        "        'GOOGLE_APPLICATION_CREDENTIALS'] = f'{DATA_PATH}/amit-pradhan-compute-23315413b3a3.json'\r\n",
        "# save_locally(DATA_PATH)\r\n",
        "print('Completed!')"
      ],
      "execution_count": 14,
      "outputs": [
        {
          "output_type": "stream",
          "text": [
            "Completed!\n"
          ],
          "name": "stdout"
        }
      ]
    },
    {
      "cell_type": "markdown",
      "metadata": {
        "id": "KTJcziIwzymf"
      },
      "source": [
        "### Jaccard similarity\r\n",
        "\r\n",
        "Jaccard similarity between columns based on minHash"
      ]
    },
    {
      "cell_type": "code",
      "metadata": {
        "colab": {
          "base_uri": "https://localhost:8080/"
        },
        "id": "odDDAXdCz9qb",
        "outputId": "8ade39ab-793d-430e-f426-b82d131d6de7"
      },
      "source": [
        "import scripts.QueryDatabase as queryDatabase\r\n",
        "import scripts.ClusterColumns as clusterColumns\r\n",
        "import numpy as np\r\n",
        "\r\n",
        "RESULTS_PATH = f'{WORKING_DIRECTORY}/results'\r\n",
        "string_columns = queryDatabase.get_columns('STRING')\r\n",
        "# np.savez(f'{RESULTS_PATH}/string_columns.npz', string_columns=string_columns)\r\n",
        "clusterColumns.serialize_min_hash(string_columns)\r\n",
        "similarity = clusterColumns.calculate_jaccard_similarity(string_columns)\r\n",
        "print(np.unique(np.round(similarity.ravel(), 2)))\r\n",
        "print('Completed!')"
      ],
      "execution_count": 15,
      "outputs": [
        {
          "output_type": "stream",
          "text": [
            "[0.   0.01 0.02 0.03 0.04 0.05 0.06 0.07 0.08 0.09 0.1  0.11 0.12 0.13\n",
            " 0.14 0.15 0.16 0.17 0.18 0.19 0.2  0.21 0.22 0.23 0.24 0.25 0.26 0.27\n",
            " 0.28 0.29 0.3  0.31 0.32 0.33 0.34 0.35 0.36 0.37 0.38 0.39 0.4  0.41\n",
            " 0.42 0.43 0.44 0.45 0.46 0.47 0.48 0.49 0.5  0.51 0.52 0.53 0.54 0.55\n",
            " 0.56 0.57 0.58 0.59 0.6  0.61 0.62 0.63 0.64 0.65 0.66 0.67 0.68 0.69\n",
            " 0.7  0.71 0.72 0.73 0.74 0.75 0.76 0.77 0.78 0.79 0.8  0.81 0.82 0.83\n",
            " 0.84 0.85 0.86 0.87 0.88 0.89 0.9  0.91 0.92 0.93 0.94 0.95 0.96 0.97\n",
            " 0.98 0.99 1.  ]\n",
            "Completed!\n"
          ],
          "name": "stdout"
        }
      ]
    },
    {
      "cell_type": "markdown",
      "metadata": {
        "id": "Sqmf8vBS5w1C"
      },
      "source": [
        "### Find columns with Jaccard similarity greater than a threshold value\r\n",
        "\r\n",
        "We use MinHash based LSH t find columns with Jaccard similarity greater than a given threshold value."
      ]
    },
    {
      "cell_type": "code",
      "metadata": {
        "colab": {
          "base_uri": "https://localhost:8080/"
        },
        "id": "j1W6x6_O6Zud",
        "outputId": "a5f3b3cf-c893-4ed6-8d4c-837cf5e5c3f1"
      },
      "source": [
        "import scripts.QueryDatabase as queryDatabase\r\n",
        "import scripts.ClusterColumns as clusterColumns\r\n",
        "\r\n",
        "RESULTS_PATH = f'{WORKING_DIRECTORY}/results'\r\n",
        "string_columns = queryDatabase.get_columns('STRING')\r\n",
        "# np.savez(f'{RESULTS_PATH}/string_columns.npz', string_columns=string_columns)\r\n",
        "lsh = clusterColumns.build_minhash_lsh(string_columns, threshold=0.7)\r\n",
        "print(clusterColumns.get_all_similar_columns(lsh, string_columns[0]))\r\n",
        "print('Completed!')"
      ],
      "execution_count": 16,
      "outputs": [
        {
          "output_type": "stream",
          "text": [
            "['bigquery-public-data.covid19_nyt.us_counties.county_fips_code', 'bigquery-public-data.covid19_jhu_csse.summary.fips', 'bigquery-public-data.covid19_usafacts.deaths.county_fips_code', 'bigquery-public-data.covid19_aha.hospital_beds.county_fips_code', 'bigquery-public-data.covid19_public_forecasts_asia_ne1.county_28d.county_fips_code', 'bigquery-public-data.covid19_usafacts.confirmed_cases.county_fips_code', 'bigquery-public-data.covid19_weathersource_com.county_day_history.county_fips_code', 'bigquery-public-data.covid19_public_forecasts.county_14d.county_fips_code', 'bigquery-public-data.covid19_public_forecasts.county_14d_historical_.county_fips_code', 'bigquery-public-data.covid19_symptom_search.symptom_search_sub_region_2_daily.sub_region_2_code', 'bigquery-public-data.covid19_symptom_search.symptom_search_sub_region_2_weekly.sub_region_2_code', 'bigquery-public-data.covid19_public_forecasts.county_14d_historical.county_fips_code', 'bigquery-public-data.covid19_google_mobility.mobility_report.census_fips_code', 'bigquery-public-data.covid19_usafacts.summary.county_fips_code', 'bigquery-public-data.covid19_public_forecasts_asia_ne1.county_28d_historical_.county_fips_code', 'bigquery-public-data.covid19_public_forecasts_asia_ne1.county_28d_historical.county_fips_code', 'bigquery-public-data.covid19_nyt.mask_use_by_county.county_fips_code', 'bigquery-public-data.covid19_aha.staffing.county_fips_code', 'bigquery-public-data.covid19_google_mobility_eu.mobility_report.census_fips_code', 'bigquery-public-data.covid19_public_forecasts_asia_ne1.county_14d.county_fips_code', 'bigquery-public-data.covid19_public_forecasts.county_28d.county_fips_code', 'bigquery-public-data.covid19_public_forecasts_asia_ne1.county_14d_historical.county_fips_code', 'bigquery-public-data.covid19_jhu_csse_eu.summary.fips', 'bigquery-public-data.covid19_public_forecasts_asia_ne1.county_14d_historical_.county_fips_code', 'bigquery-public-data.covid19_public_forecasts.county_28d_historical_.county_fips_code', 'bigquery-public-data.covid19_public_forecasts.county_28d_historical.county_fips_code']\n",
            "Completed!\n"
          ],
          "name": "stdout"
        }
      ]
    },
    {
      "cell_type": "markdown",
      "metadata": {
        "id": "BAChLP2f00zS"
      },
      "source": [
        "### Top-k similar columns based on Jaccard similarity\r\n",
        "\r\n",
        "We use minhash LSH based forest to query top k columns based on Jaccard similarity"
      ]
    },
    {
      "cell_type": "code",
      "metadata": {
        "colab": {
          "base_uri": "https://localhost:8080/"
        },
        "id": "w60j5aUM1gMS",
        "outputId": "b7160d71-9586-4fd6-fda9-60b23ef69c07"
      },
      "source": [
        "import scripts.QueryDatabase as queryDatabase\r\n",
        "import scripts.ClusterColumns as clusterColumns\r\n",
        "\r\n",
        "string_columns = queryDatabase.get_columns('STRING')\r\n",
        "forest = clusterColumns.build_lsh_forest(string_columns)\r\n",
        "print(clusterColumns.get_top_k(forest, string_columns[0], 10))\r\n",
        "print('Completed!')"
      ],
      "execution_count": 17,
      "outputs": [
        {
          "output_type": "stream",
          "text": [
            "['bigquery-public-data.covid19_aha.staffing.county_fips_code', 'bigquery-public-data.covid19_google_mobility.mobility_report.census_fips_code', 'bigquery-public-data.covid19_google_mobility_eu.mobility_report.census_fips_code', 'bigquery-public-data.covid19_nyt.us_counties.county_fips_code', 'bigquery-public-data.covid19_public_forecasts.county_14d.county_fips_code', 'bigquery-public-data.covid19_jhu_csse.summary.fips', 'bigquery-public-data.covid19_jhu_csse_eu.summary.fips', 'bigquery-public-data.covid19_symptom_search.symptom_search_sub_region_2_daily.sub_region_2_code', 'bigquery-public-data.covid19_aha.hospital_beds.county_fips_code', 'bigquery-public-data.covid19_nyt.mask_use_by_county.county_fips_code']\n",
            "Completed!\n"
          ],
          "name": "stdout"
        }
      ]
    },
    {
      "cell_type": "markdown",
      "metadata": {
        "id": "wVllabCDRBK6"
      },
      "source": [
        "### ScratchPad\r\n",
        "Try anything here!"
      ]
    },
    {
      "cell_type": "code",
      "metadata": {
        "id": "AQXOn8N-RcBu",
        "colab": {
          "base_uri": "https://localhost:8080/"
        },
        "outputId": "e9c70e55-78eb-47f2-e90d-46cd4d87d38f"
      },
      "source": [
        "import scripts.QueryDatabase as queryDatabase\r\n",
        "import scripts.ClusterColumns as clusterColumns\r\n",
        "import numpy as np\r\n",
        "\r\n",
        "RESULTS_PATH = f'{WORKING_DIRECTORY}/results'\r\n",
        "string_columns = queryDatabase.get_columns('STRING')\r\n",
        "# np.savez(f'{RESULTS_PATH}/string_columns.npz', string_columns=string_columns)\r\n",
        "clusterColumns.serialize_min_hash(string_columns)\r\n",
        "similarity = clusterColumns.calculate_jaccard_similarity(string_columns)\r\n",
        "# print(np.unique(np.round(similarity.ravel(), 2)))\r\n",
        "print('Completed!')"
      ],
      "execution_count": 8,
      "outputs": [
        {
          "output_type": "stream",
          "text": [
            "Completed!\n"
          ],
          "name": "stdout"
        }
      ]
    }
  ]
}