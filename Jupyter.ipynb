{
  "nbformat": 4,
  "nbformat_minor": 0,
  "metadata": {
    "colab": {
      "name": "Jupyter.ipynb",
      "provenance": [],
      "authorship_tag": "ABX9TyNJXSb1FynM6UMeqrwaiA2+",
      "include_colab_link": true
    },
    "kernelspec": {
      "name": "python3",
      "display_name": "Python 3"
    }
  },
  "cells": [
    {
      "cell_type": "markdown",
      "metadata": {
        "id": "view-in-github",
        "colab_type": "text"
      },
      "source": [
        "<a href=\"https://colab.research.google.com/github/amitkp57/Jupyter/blob/dev/Jupyter.ipynb\" target=\"_parent\"><img src=\"https://colab.research.google.com/assets/colab-badge.svg\" alt=\"Open In Colab\"/></a>"
      ]
    },
    {
      "cell_type": "markdown",
      "metadata": {
        "id": "_kHS_aVnCAFW"
      },
      "source": [
        "### Move to GPU mode if you are in Google Colab\r\n",
        "Go to `Runtime` -> `Change runtime type` to activate GPU."
      ]
    },
    {
      "cell_type": "markdown",
      "metadata": {
        "id": "WK-zi4nZwNfa"
      },
      "source": [
        "### Provide your credentials to the runtime\r\n"
      ]
    },
    {
      "cell_type": "code",
      "metadata": {
        "colab": {
          "base_uri": "https://localhost:8080/"
        },
        "id": "2Gym1DvVvfzL",
        "outputId": "42af5fd4-ac30-48a5-ac3f-35338e86482c"
      },
      "source": [
        "from google.colab import auth\r\n",
        "auth.authenticate_user()\r\n",
        "print('Authenticated')"
      ],
      "execution_count": 1,
      "outputs": [
        {
          "output_type": "stream",
          "text": [
            "Authenticated\n"
          ],
          "name": "stdout"
        }
      ]
    },
    {
      "cell_type": "markdown",
      "metadata": {
        "id": "zKGjgo_MCHLt"
      },
      "source": [
        "### Mount Google Drive"
      ]
    },
    {
      "cell_type": "code",
      "metadata": {
        "id": "_0lGGQxtCBGm"
      },
      "source": [
        "import os\r\n",
        "from google.colab import drive\r\n",
        "drive.mount('/content/gdrive')\r\n",
        "WORKING_DIRECTORY = '/content/gdrive/MyDrive/Data/Jupyter'\r\n",
        "os.environ['WORKING_DIRECTORY'] = WORKING_DIRECTORY\r\n",
        "%cd $WORKING_DIRECTORY\r\n",
        "!ls -latr"
      ],
      "execution_count": null,
      "outputs": []
    },
    {
      "cell_type": "markdown",
      "metadata": {
        "id": "MYSVHrEFxwbR"
      },
      "source": [
        "### Clone git repo"
      ]
    },
    {
      "cell_type": "code",
      "metadata": {
        "id": "_A5TX_whyILW"
      },
      "source": [
        "%cd $WORKING_DIRECTORY\r\n",
        "# !git clone https://github.com/amitkp57/Jupyter\r\n",
        "!git pull\r\n",
        "!pip install -r requirements.txt"
      ],
      "execution_count": null,
      "outputs": []
    },
    {
      "cell_type": "markdown",
      "metadata": {
        "id": "lXzuTYHW1IJ7"
      },
      "source": [
        "### Setup meta data\r\n",
        "\r\n",
        "Creates datasets.txt, tables.txt and columns.json in the /data folder. These files are used for querying Google Bigquery tables. "
      ]
    },
    {
      "cell_type": "code",
      "metadata": {
        "id": "1_2rSY2c18EW"
      },
      "source": [
        "from scripts.MetaData import save_locally\r\n",
        "DATA_PATH = f'{WORKING_DIRECTORY}/data'\r\n",
        "save_locally(DATA_PATH)\r\n",
        "print('Completed!')"
      ],
      "execution_count": 4,
      "outputs": []
    }
  ]
}